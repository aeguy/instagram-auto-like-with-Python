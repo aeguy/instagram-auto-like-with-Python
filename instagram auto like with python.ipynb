{
 "cells": [
  {
   "cell_type": "code",
   "execution_count": 1,
   "metadata": {
    "collapsed": true
   },
   "outputs": [],
   "source": [
    "from selenium import webdriver\n",
    "import requests\n",
    "import json\n",
    "import time\n",
    "import datetime\n",
    "from urllib.parse import quote\n",
    "\n",
<<<<<<< HEAD
<<<<<<< HEAD
    "# browser = webdriver.Firefox()\n",
    "# browser.get('https://instagram.com/')\n",
    "# browser.maximize_window()\n",
    "# browser.implicitly_wait(5)  "
=======
=======
>>>>>>> 079d45a922a59794450d02e8537de7917e7e0cec
    "browser = webdriver.Firefox()\n",
    "browser.get('https://instagram.com/')\n",
    "browser.maximize_window()\n",
    "browser.implicitly_wait(5)  "
<<<<<<< HEAD
>>>>>>> parent of 54ceee9... 코드 전체 클래스
=======
>>>>>>> 079d45a922a59794450d02e8537de7917e7e0cec
   ]
  },
  {
   "cell_type": "code",
   "execution_count": 16,
   "metadata": {
    "collapsed": true
   },
   "outputs": [],
   "source": [
    "browser = webdriver.PhantomJS(service_args=[\"--ignore-ssl-errors=true\", \"--ssl-protocol=any\"])\n",
    "browser.set_window_size(1280, 1024)\n",
    "browser.get(\"https://instagram.com/\")\n",
    "browser.implicitly_wait(5)"
   ]
  },
  {
   "cell_type": "code",
   "execution_count": 62,
   "metadata": {
    "collapsed": true
   },
   "outputs": [],
   "source": [
    "def send_slack(channel, username, icon_emoji, message):\n",
    "    base_url = \"hooks의 개인 주소 입력\" \n",
    "    payload = {\n",
    "       \"channel\": channel,\n",
    "       \"username\": username,\n",
    "       \"icon_emoji\": icon_emoji,\n",
    "       \"text\": message\n",
    "       }\n",
    "    response = requests.post(base_url, data=json.dumps(payload))\n",
    "    print(response.content)\n",
    "\n",
    "def slack(function):\n",
    "    def wrapper(*args, **kwargs):\n",
    "        name = function.__name__\n",
    "        start_time = time.time()\n",
    "        current_time = str(datetime.datetime.now())\n",
    "        send_slack(\"project\", \"databot\", \":ghost:\", \"작업을 실행합니다 - {time}\".format(time=current_time))\n",
    "        \n",
    "        try:\n",
    "            result = function(*args, **kwargs)\n",
    "            current_time = str(datetime.datetime.now())\n",
    "            end_time = time.time()\n",
    "            send_slack(\"project\", \"databot\", \":ghost:\", \"작업이 끝났습니다 - 걸린시간은 {time}s 입니다.\".format(time=int(end_time-start_time)))\n",
    "            \n",
    "        except:\n",
    "            send_slack(\"project\", \"databot\", \":ghost:\", \"오류가 났어요 다시 봐주세요.\")\n",
    "            \n",
    "        current_time = str(datetime.datetime.now())\n",
    "        end_time = time.time()\n",
    "        send_slack(\"dss\", \"databot\", \":ghost:\", \"작업이 끝났습니다 - 걸린시간은 {time}s 입니다.\".format(time=int(end_time-start_time)))\n",
    "       \n",
    "    return wrapper"
   ]
  },
  {
   "cell_type": "code",
<<<<<<< HEAD
<<<<<<< HEAD
   "execution_count": 17,
=======
   "execution_count": 2,
>>>>>>> parent of 54ceee9... 코드 전체 클래스
=======
   "execution_count": 2,
>>>>>>> 079d45a922a59794450d02e8537de7917e7e0cec
   "metadata": {
    "collapsed": true
   },
   "outputs": [],
   "source": [
    "# 로그인 창으로 이동\n",
    "# login_link = browser.find_element_by_css_selector('._fcn8k')\n",
    "login_link = browser.find_element_by_css_selector('a._b93kq')\n",
    "login_link.click()\n"
   ]
  },
  {
   "cell_type": "code",
<<<<<<< HEAD
<<<<<<< HEAD
   "execution_count": 18,
=======
   "execution_count": 4,
>>>>>>> parent of 54ceee9... 코드 전체 클래스
=======
   "execution_count": 4,
>>>>>>> 079d45a922a59794450d02e8537de7917e7e0cec
   "metadata": {
    "collapsed": true
   },
   "outputs": [],
   "source": [
    "# id 입력\n",
    "# username_input = browser.find_element_by_css_selector('div._ccek6:nth-child(1) > input:nth-child(1)')\n",
    "# username_input = browser.find_elements_by_css_selector('input._kp5f7._qy55y')[0]\n",
<<<<<<< HEAD
<<<<<<< HEAD
    "username_input = browser.find_elements_by_css_selector('input._e3d9a._o716c')[0]\n",
    "username_input.send_keys(\"id\") # ID 입력\n"
=======
    "username_input = browser.find_elements_by_css_selector('input._ph6vk._o716c')[0]\n",
    "username_input.send_keys(\"data.scientist\") # ID 입력\n"
>>>>>>> parent of 54ceee9... 코드 전체 클래스
=======
    "username_input = browser.find_elements_by_css_selector('input._ph6vk._o716c')[0]\n",
    "username_input.send_keys(\"data.scientist\") # ID 입력\n"
>>>>>>> 079d45a922a59794450d02e8537de7917e7e0cec
   ]
  },
  {
   "cell_type": "code",
<<<<<<< HEAD
<<<<<<< HEAD
   "execution_count": 19,
=======
   "execution_count": 5,
>>>>>>> parent of 54ceee9... 코드 전체 클래스
=======
   "execution_count": 5,
>>>>>>> 079d45a922a59794450d02e8537de7917e7e0cec
   "metadata": {
    "collapsed": true
   },
   "outputs": [],
   "source": [
    "# password\n",
    "\n",
    "# password_input = browser.find_element_by_css_selector('div._ccek6:nth-child(2) > input:nth-child(1)')\n",
<<<<<<< HEAD
<<<<<<< HEAD
    "password_input = browser.find_elements_by_css_selector('input._kp5f7._qy55y')[1]\n",
=======
    "password_input = browser.find_elements_by_css_selector('input._ph6vk._o716c')[1]\n",
>>>>>>> parent of 54ceee9... 코드 전체 클래스
=======
    "password_input = browser.find_elements_by_css_selector('input._ph6vk._o716c')[1]\n",
>>>>>>> 079d45a922a59794450d02e8537de7917e7e0cec
    "password_input.send_keys(\"password\") # 비밀번호 입력\n",
    "\n",
    "# Login\n",
    "password_input.submit()\n",
    "\n"
   ]
  },
  {
   "cell_type": "code",
   "execution_count": 6,
   "metadata": {},
   "outputs": [
    {
     "data": {
      "text/plain": [
       "True"
      ]
     },
     "execution_count": 6,
     "metadata": {},
     "output_type": "execute_result"
    }
   ],
   "source": [
    "browser.save_screenshot('now.jpg')"
   ]
  },
  {
   "cell_type": "code",
   "execution_count": 12,
<<<<<<< HEAD
=======
   "metadata": {},
   "outputs": [
    {
     "name": "stdout",
     "output_type": "stream",
     "text": [
      "Wall time: 13.3 s\n"
     ]
    }
   ],
   "source": [
    "%%time\n",
    "# 자신의 타임라인(팔로잉한 유저들의 글)의 글 좋아요\n",
    "\n",
    "try:\n",
    "    for n in range(30):\n",
    "        like_lists = browser.find_elements_by_css_selector('span.coreSpriteHeartOpen')\n",
    "        for i in like_lists:\n",
    "            i.click()\n",
    "            time.sleep(2)\n",
    "        browser.execute_script(\"window.scrollTo(0, document.body.scrollHeight);\") # 아래로 내려가는 코드 추가\n",
    "        time.sleep(1.3)\n",
    "except:\n",
    "    time.sleep(1)"
   ]
  },
  {
   "cell_type": "code",
   "execution_count": 8,
   "metadata": {},
   "outputs": [
    {
     "name": "stdout",
     "output_type": "stream",
     "text": [
      "Wall time: 1min 13s\n"
     ]
    }
   ],
   "source": [
    "%%time\n",
    "# 특정 해시태그에서 글을 누른 상태에서 좋아요 누르기\n",
    "for i in range(1,200): # N\n",
    "    try:\n",
    "        browser.find_element_by_css_selector(\"span.coreSpriteHeartOpen\").click()\n",
    "        time.sleep(2)\n",
    "        browser.find_element_by_css_selector(\"a._3a693.coreSpriteRightPaginationArrow\").click()\n",
    "        time.sleep(2)\n",
    "    except:\n",
    "        browser.find_element_by_css_selector(\"a._3a693.coreSpriteRightPaginationArrow\").click()\n",
    "        time.sleep(0.4)\n"
   ]
  },
  {
   "cell_type": "code",
   "execution_count": 57,
   "metadata": {
    "collapsed": true
   },
   "outputs": [],
   "source": [
    "def insta_auto(hash_tag, count_number):\n",
    "    start_time = time.time()\n",
    "    current_time = str(datetime.datetime.now())\n",
    "#     send_slack(\"project\", \"databot\", \":ghost:\", \"인스타그램 좋아요 작업을 실행합니다 - {time}\".format(time=current_time))\n",
    "\n",
    "#     hash_tag = str(input(\"해시태그를 입력해주세요. ex)먹스타그램 \"))\n",
    "\n",
    "#     count_number = int(input(\"좋아요 몇번 할까요?\"))\n",
    "\n",
    "    browser.get(\"https://www.instagram.com/explore/tags/\" + quote(hash_tag) )\n",
    "\n",
    "#     browser.find_elements_by_css_selector(\"div._22yr2\")[9].click() \n",
    "    browser.find_elements_by_css_selector(\"div._4rbun\")[9].click() \n",
    "    \n",
    "\n",
    "    for i in range(1,count_number):\n",
    "        try:\n",
    "            browser.find_element_by_css_selector(\"span.coreSpriteHeartOpen\").click()\n",
    "            time.sleep(2)\n",
    "#             browser.find_element_by_css_selector(\"a._de018.coreSpriteRightPaginationArrow\").click()\n",
    "            browser.find_element_by_css_selector(\"a._3a693.coreSpriteRightPaginationArrow\").click()\n",
    "            time.sleep(2)\n",
    "        except:\n",
    "            browser.find_element_by_css_selector(\"a._3a693.coreSpriteRightPaginationArrow\").click()\n",
    "            time.sleep(0.4)\n",
    "\n",
    "\n",
    "    current_time = str(datetime.datetime.now())\n",
    "    end_time = time.time()\n",
    "#     send_slack(\"project\", \"databot\", \":ghost:\", \"작업이 끝났습니다 - 걸린시간은 {time}s 입니다.\".format(time=int(end_time-start_time)))"
   ]
  },
  {
   "cell_type": "code",
   "execution_count": 78,
   "metadata": {
    "scrolled": false
<<<<<<< HEAD
   },
   "outputs": [
    {
     "data": {
      "text/plain": [
       "True"
      ]
     },
     "execution_count": 78,
     "metadata": {},
     "output_type": "execute_result"
    }
   ],
   "source": [
    "browser.save_screenshot('test.jpg')"
   ]
  },
  {
   "cell_type": "code",
   "execution_count": 59,
   "metadata": {
    "collapsed": true
   },
   "outputs": [],
   "source": [
    "# browser.find_elements_by_css_selector('div._e3il2')[9].click()\n",
    "browser.find_elements_by_css_selector('div._4rbun')[9].send_keys(\"\\n\")\n"
   ]
  },
  {
   "cell_type": "code",
   "execution_count": 57,
   "metadata": {
    "collapsed": true
   },
   "outputs": [],
   "source": [
    "def insta_auto(hash_tag, count_number:int):\n",
    "    print(hash_tag +\" 좋아요 작업을 시작합니다\")\n",
    "    browser.get(\"https://www.instagram.com/explore/tags/\" + quote(hash_tag))\n",
    "    time.sleep(2)\n",
    "    browser.find_elements_by_css_selector(\"div._4rbun\")[9].click()\n",
    "    time.sleep(2)\n",
    "    for i in range(1,int(count_number)):\n",
    "        print(hash_tag, i)\n",
    "        try:\n",
    "            browser.find_element_by_css_selector(\"span.coreSpriteHeartOpen\").click()\n",
    "            time.sleep(2)\n",
    "            browser.find_element_by_css_selector(\"a._3a693.coreSpriteRightPaginationArrow\").click()\n",
    "            time.sleep(2)\n",
    "        except:\n",
    "            browser.find_element_by_css_selector(\"a._3a693.coreSpriteRightPaginationArrow\").click()\n",
    "            time.sleep(0.4)"
   ]
  },
  {
   "cell_type": "code",
   "execution_count": 50,
   "metadata": {
    "collapsed": true
   },
   "outputs": [],
   "source": [
    "browser.find_elements_by_css_selector(\"div._4rbun\")[9].click()"
   ]
  },
  {
   "cell_type": "code",
   "execution_count": 41,
>>>>>>> parent of 54ceee9... 코드 전체 클래스
   "metadata": {},
   "outputs": [
    {
     "name": "stdout",
     "output_type": "stream",
     "text": [
<<<<<<< HEAD
      "Wall time: 13.3 s\n"
     ]
    }
   ],
   "source": [
    "%%time\n",
    "# 자신의 타임라인(팔로잉한 유저들의 글)의 글 좋아요\n",
    "\n",
    "try:\n",
    "    for n in range(30):\n",
    "        like_lists = browser.find_elements_by_css_selector('span.coreSpriteHeartOpen')\n",
    "        for i in like_lists:\n",
    "            i.click()\n",
    "            time.sleep(2)\n",
    "        browser.execute_script(\"window.scrollTo(0, document.body.scrollHeight);\") # 아래로 내려가는 코드 추가\n",
    "        time.sleep(1.3)\n",
    "except:\n",
    "    time.sleep(1)"
   ]
  },
  {
   "cell_type": "code",
   "execution_count": 8,
   "metadata": {},
   "outputs": [
    {
     "name": "stdout",
     "output_type": "stream",
     "text": [
      "Wall time: 1min 13s\n"
=======
      "파이썬 좋아요 작업을 시작합니다\n"
     ]
    },
    {
     "ename": "IndexError",
     "evalue": "list index out of range",
     "output_type": "error",
     "traceback": [
      "\u001b[0;31m---------------------------------------------------------------------------\u001b[0m",
      "\u001b[0;31mIndexError\u001b[0m                                Traceback (most recent call last)",
      "\u001b[0;32m<ipython-input-41-608786df3568>\u001b[0m in \u001b[0;36m<module>\u001b[0;34m()\u001b[0m\n\u001b[1;32m      6\u001b[0m \u001b[0mbrowser\u001b[0m\u001b[0;34m.\u001b[0m\u001b[0mexecute_script\u001b[0m\u001b[0;34m(\u001b[0m\u001b[0;34m\"window.scrollTo(0, document.body.scrollHeight);\"\u001b[0m\u001b[0;34m)\u001b[0m\u001b[0;34m\u001b[0m\u001b[0m\n\u001b[1;32m      7\u001b[0m \u001b[0mtime\u001b[0m\u001b[0;34m.\u001b[0m\u001b[0msleep\u001b[0m\u001b[0;34m(\u001b[0m\u001b[0;36m0.12\u001b[0m\u001b[0;34m)\u001b[0m\u001b[0;34m\u001b[0m\u001b[0m\n\u001b[0;32m----> 8\u001b[0;31m \u001b[0mbrowser\u001b[0m\u001b[0;34m.\u001b[0m\u001b[0mfind_elements_by_css_selector\u001b[0m\u001b[0;34m(\u001b[0m\u001b[0;34m\"div._mli86\"\u001b[0m\u001b[0;34m)\u001b[0m\u001b[0;34m[\u001b[0m\u001b[0;36m9\u001b[0m\u001b[0;34m]\u001b[0m\u001b[0;34m.\u001b[0m\u001b[0mclick\u001b[0m\u001b[0;34m(\u001b[0m\u001b[0;34m)\u001b[0m\u001b[0;34m\u001b[0m\u001b[0m\n\u001b[0m\u001b[1;32m      9\u001b[0m \u001b[0mtime\u001b[0m\u001b[0;34m.\u001b[0m\u001b[0msleep\u001b[0m\u001b[0;34m(\u001b[0m\u001b[0;36m1\u001b[0m\u001b[0;34m)\u001b[0m\u001b[0;34m\u001b[0m\u001b[0m\n\u001b[1;32m     10\u001b[0m \u001b[0;32mfor\u001b[0m \u001b[0mi\u001b[0m \u001b[0;32min\u001b[0m \u001b[0mrange\u001b[0m\u001b[0;34m(\u001b[0m\u001b[0;36m1\u001b[0m\u001b[0;34m,\u001b[0m\u001b[0mint\u001b[0m\u001b[0;34m(\u001b[0m\u001b[0mcount_number\u001b[0m\u001b[0;34m)\u001b[0m\u001b[0;34m)\u001b[0m\u001b[0;34m:\u001b[0m\u001b[0;34m\u001b[0m\u001b[0m\n",
      "\u001b[0;31mIndexError\u001b[0m: list index out of range"
>>>>>>> parent of 54ceee9... 코드 전체 클래스
     ]
    }
   ],
   "source": [
<<<<<<< HEAD
    "%%time\n",
    "# 특정 해시태그에서 글을 누른 상태에서 좋아요 누르기\n",
    "for i in range(1,200): # N\n",
=======
    "hash_tag = '파이썬'\n",
    "count_number = 200\n",
    "print(hash_tag +\" 좋아요 작업을 시작합니다\")\n",
    "browser.get(\"https://www.instagram.com/explore/tags/\" + quote(hash_tag))\n",
    "time.sleep(3)\n",
    "browser.execute_script(\"window.scrollTo(0, document.body.scrollHeight);\")\n",
    "time.sleep(0.12)\n",
    "browser.find_elements_by_css_selector(\"div._mli86\")[9].click()\n",
    "time.sleep(1)\n",
    "for i in range(1,int(count_number)):\n",
    "    print(hash_tag, i)\n",
>>>>>>> parent of 54ceee9... 코드 전체 클래스
    "    try:\n",
    "        browser.find_element_by_css_selector(\"span.coreSpriteHeartOpen\").click()\n",
    "        time.sleep(2)\n",
    "        browser.find_element_by_css_selector(\"a._3a693.coreSpriteRightPaginationArrow\").click()\n",
    "        time.sleep(2)\n",
    "    except:\n",
    "        browser.find_element_by_css_selector(\"a._3a693.coreSpriteRightPaginationArrow\").click()\n",
<<<<<<< HEAD
    "        time.sleep(0.4)\n"
=======
    "        time.sleep(0.4)"
>>>>>>> parent of 54ceee9... 코드 전체 클래스
   ]
  },
  {
   "cell_type": "code",
<<<<<<< HEAD
   "execution_count": 57,
   "metadata": {
    "collapsed": true
   },
   "outputs": [],
   "source": [
    "def insta_auto(hash_tag, count_number):\n",
    "    start_time = time.time()\n",
    "    current_time = str(datetime.datetime.now())\n",
    "#     send_slack(\"project\", \"databot\", \":ghost:\", \"인스타그램 좋아요 작업을 실행합니다 - {time}\".format(time=current_time))\n",
    "\n",
    "#     hash_tag = str(input(\"해시태그를 입력해주세요. ex)먹스타그램 \"))\n",
    "\n",
    "#     count_number = int(input(\"좋아요 몇번 할까요?\"))\n",
    "\n",
    "    browser.get(\"https://www.instagram.com/explore/tags/\" + quote(hash_tag) )\n",
    "\n",
    "#     browser.find_elements_by_css_selector(\"div._22yr2\")[9].click() \n",
    "    browser.find_elements_by_css_selector(\"div._4rbun\")[9].click() \n",
    "    \n",
    "\n",
    "    for i in range(1,count_number):\n",
    "        try:\n",
    "            browser.find_element_by_css_selector(\"span.coreSpriteHeartOpen\").click()\n",
    "            time.sleep(2)\n",
    "#             browser.find_element_by_css_selector(\"a._de018.coreSpriteRightPaginationArrow\").click()\n",
    "            browser.find_element_by_css_selector(\"a._3a693.coreSpriteRightPaginationArrow\").click()\n",
    "            time.sleep(2)\n",
    "        except:\n",
    "            browser.find_element_by_css_selector(\"a._3a693.coreSpriteRightPaginationArrow\").click()\n",
    "            time.sleep(0.4)\n",
    "\n",
    "\n",
    "    current_time = str(datetime.datetime.now())\n",
    "    end_time = time.time()\n",
    "#     send_slack(\"project\", \"databot\", \":ghost:\", \"작업이 끝났습니다 - 걸린시간은 {time}s 입니다.\".format(time=int(end_time-start_time)))"
   ]
  },
  {
   "cell_type": "code",
   "execution_count": 78,
   "metadata": {
    "scrolled": true
=======
>>>>>>> 079d45a922a59794450d02e8537de7917e7e0cec
   },
   "outputs": [
    {
     "data": {
      "text/plain": [
       "True"
      ]
     },
     "execution_count": 78,
     "metadata": {},
     "output_type": "execute_result"
    }
   ],
   "source": [
    "browser.save_screenshot('test.jpg')"
   ]
  },
  {
   "cell_type": "code",
   "execution_count": 59,
   "metadata": {
    "collapsed": true
   },
   "outputs": [],
   "source": [
    "# browser.find_elements_by_css_selector('div._e3il2')[9].click()\n",
    "browser.find_elements_by_css_selector('div._4rbun')[9].send_keys(\"\\n\")\n"
   ]
  },
  {
   "cell_type": "code",
   "execution_count": 57,
   "metadata": {
    "collapsed": true
   },
   "outputs": [],
   "source": [
    "def insta_auto(hash_tag, count_number:int):\n",
    "    print(hash_tag +\" 좋아요 작업을 시작합니다\")\n",
    "    browser.get(\"https://www.instagram.com/explore/tags/\" + quote(hash_tag))\n",
    "    time.sleep(2)\n",
    "    browser.find_elements_by_css_selector(\"div._4rbun\")[9].click()\n",
    "    time.sleep(2)\n",
    "    for i in range(1,int(count_number)):\n",
    "        print(hash_tag, i)\n",
    "        try:\n",
    "            browser.find_element_by_css_selector(\"span.coreSpriteHeartOpen\").click()\n",
    "            time.sleep(2)\n",
    "            browser.find_element_by_css_selector(\"a._3a693.coreSpriteRightPaginationArrow\").click()\n",
    "            time.sleep(2)\n",
    "        except:\n",
    "            browser.find_element_by_css_selector(\"a._3a693.coreSpriteRightPaginationArrow\").click()\n",
    "            time.sleep(0.4)"
=======
   "execution_count": 58,
   "metadata": {},
   "outputs": [
    {
     "name": "stdout",
     "output_type": "stream",
     "text": [
      "파이썬 좋아요 작업을 시작합니다\n",
      "파이썬 1\n"
     ]
    },
    {
     "ename": "NoSuchElementException",
     "evalue": "Message: Unable to locate element: a._3a693.coreSpriteRightPaginationArrow\n",
     "output_type": "error",
     "traceback": [
      "\u001b[0;31m---------------------------------------------------------------------------\u001b[0m",
      "\u001b[0;31mNoSuchElementException\u001b[0m                    Traceback (most recent call last)",
      "\u001b[0;32m<ipython-input-57-a9ae843715b8>\u001b[0m in \u001b[0;36minsta_auto\u001b[0;34m(hash_tag, count_number)\u001b[0m\n\u001b[1;32m      9\u001b[0m         \u001b[0;32mtry\u001b[0m\u001b[0;34m:\u001b[0m\u001b[0;34m\u001b[0m\u001b[0m\n\u001b[0;32m---> 10\u001b[0;31m             \u001b[0mbrowser\u001b[0m\u001b[0;34m.\u001b[0m\u001b[0mfind_element_by_css_selector\u001b[0m\u001b[0;34m(\u001b[0m\u001b[0;34m\"span.coreSpriteHeartOpen\"\u001b[0m\u001b[0;34m)\u001b[0m\u001b[0;34m.\u001b[0m\u001b[0mclick\u001b[0m\u001b[0;34m(\u001b[0m\u001b[0;34m)\u001b[0m\u001b[0;34m\u001b[0m\u001b[0m\n\u001b[0m\u001b[1;32m     11\u001b[0m             \u001b[0mtime\u001b[0m\u001b[0;34m.\u001b[0m\u001b[0msleep\u001b[0m\u001b[0;34m(\u001b[0m\u001b[0;36m2\u001b[0m\u001b[0;34m)\u001b[0m\u001b[0;34m\u001b[0m\u001b[0m\n",
      "\u001b[0;32m/usr/local/lib/python3.6/site-packages/selenium/webdriver/remote/webdriver.py\u001b[0m in \u001b[0;36mfind_element_by_css_selector\u001b[0;34m(self, css_selector)\u001b[0m\n\u001b[1;32m    456\u001b[0m         \"\"\"\n\u001b[0;32m--> 457\u001b[0;31m         \u001b[0;32mreturn\u001b[0m \u001b[0mself\u001b[0m\u001b[0;34m.\u001b[0m\u001b[0mfind_element\u001b[0m\u001b[0;34m(\u001b[0m\u001b[0mby\u001b[0m\u001b[0;34m=\u001b[0m\u001b[0mBy\u001b[0m\u001b[0;34m.\u001b[0m\u001b[0mCSS_SELECTOR\u001b[0m\u001b[0;34m,\u001b[0m \u001b[0mvalue\u001b[0m\u001b[0;34m=\u001b[0m\u001b[0mcss_selector\u001b[0m\u001b[0;34m)\u001b[0m\u001b[0;34m\u001b[0m\u001b[0m\n\u001b[0m\u001b[1;32m    458\u001b[0m \u001b[0;34m\u001b[0m\u001b[0m\n",
      "\u001b[0;32m/usr/local/lib/python3.6/site-packages/selenium/webdriver/remote/webdriver.py\u001b[0m in \u001b[0;36mfind_element\u001b[0;34m(self, by, value)\u001b[0m\n\u001b[1;32m    790\u001b[0m             \u001b[0;34m'using'\u001b[0m\u001b[0;34m:\u001b[0m \u001b[0mby\u001b[0m\u001b[0;34m,\u001b[0m\u001b[0;34m\u001b[0m\u001b[0m\n\u001b[0;32m--> 791\u001b[0;31m             'value': value})['value']\n\u001b[0m\u001b[1;32m    792\u001b[0m \u001b[0;34m\u001b[0m\u001b[0m\n",
      "\u001b[0;32m/usr/local/lib/python3.6/site-packages/selenium/webdriver/remote/webdriver.py\u001b[0m in \u001b[0;36mexecute\u001b[0;34m(self, driver_command, params)\u001b[0m\n\u001b[1;32m    255\u001b[0m         \u001b[0;32mif\u001b[0m \u001b[0mresponse\u001b[0m\u001b[0;34m:\u001b[0m\u001b[0;34m\u001b[0m\u001b[0m\n\u001b[0;32m--> 256\u001b[0;31m             \u001b[0mself\u001b[0m\u001b[0;34m.\u001b[0m\u001b[0merror_handler\u001b[0m\u001b[0;34m.\u001b[0m\u001b[0mcheck_response\u001b[0m\u001b[0;34m(\u001b[0m\u001b[0mresponse\u001b[0m\u001b[0;34m)\u001b[0m\u001b[0;34m\u001b[0m\u001b[0m\n\u001b[0m\u001b[1;32m    257\u001b[0m             response['value'] = self._unwrap_value(\n",
      "\u001b[0;32m/usr/local/lib/python3.6/site-packages/selenium/webdriver/remote/errorhandler.py\u001b[0m in \u001b[0;36mcheck_response\u001b[0;34m(self, response)\u001b[0m\n\u001b[1;32m    193\u001b[0m             \u001b[0;32mraise\u001b[0m \u001b[0mexception_class\u001b[0m\u001b[0;34m(\u001b[0m\u001b[0mmessage\u001b[0m\u001b[0;34m,\u001b[0m \u001b[0mscreen\u001b[0m\u001b[0;34m,\u001b[0m \u001b[0mstacktrace\u001b[0m\u001b[0;34m,\u001b[0m \u001b[0mvalue\u001b[0m\u001b[0;34m[\u001b[0m\u001b[0;34m'alert'\u001b[0m\u001b[0;34m]\u001b[0m\u001b[0;34m.\u001b[0m\u001b[0mget\u001b[0m\u001b[0;34m(\u001b[0m\u001b[0;34m'text'\u001b[0m\u001b[0;34m)\u001b[0m\u001b[0;34m)\u001b[0m\u001b[0;34m\u001b[0m\u001b[0m\n\u001b[0;32m--> 194\u001b[0;31m         \u001b[0;32mraise\u001b[0m \u001b[0mexception_class\u001b[0m\u001b[0;34m(\u001b[0m\u001b[0mmessage\u001b[0m\u001b[0;34m,\u001b[0m \u001b[0mscreen\u001b[0m\u001b[0;34m,\u001b[0m \u001b[0mstacktrace\u001b[0m\u001b[0;34m)\u001b[0m\u001b[0;34m\u001b[0m\u001b[0m\n\u001b[0m\u001b[1;32m    195\u001b[0m \u001b[0;34m\u001b[0m\u001b[0m\n",
      "\u001b[0;31mNoSuchElementException\u001b[0m: Message: Unable to locate element: span.coreSpriteHeartOpen\n",
      "\nDuring handling of the above exception, another exception occurred:\n",
      "\u001b[0;31mNoSuchElementException\u001b[0m                    Traceback (most recent call last)",
      "\u001b[0;32m<timed eval>\u001b[0m in \u001b[0;36m<module>\u001b[0;34m()\u001b[0m\n",
      "\u001b[0;32m<ipython-input-57-a9ae843715b8>\u001b[0m in \u001b[0;36minsta_auto\u001b[0;34m(hash_tag, count_number)\u001b[0m\n\u001b[1;32m     13\u001b[0m             \u001b[0mtime\u001b[0m\u001b[0;34m.\u001b[0m\u001b[0msleep\u001b[0m\u001b[0;34m(\u001b[0m\u001b[0;36m2\u001b[0m\u001b[0;34m)\u001b[0m\u001b[0;34m\u001b[0m\u001b[0m\n\u001b[1;32m     14\u001b[0m         \u001b[0;32mexcept\u001b[0m\u001b[0;34m:\u001b[0m\u001b[0;34m\u001b[0m\u001b[0m\n\u001b[0;32m---> 15\u001b[0;31m             \u001b[0mbrowser\u001b[0m\u001b[0;34m.\u001b[0m\u001b[0mfind_element_by_css_selector\u001b[0m\u001b[0;34m(\u001b[0m\u001b[0;34m\"a._3a693.coreSpriteRightPaginationArrow\"\u001b[0m\u001b[0;34m)\u001b[0m\u001b[0;34m.\u001b[0m\u001b[0mclick\u001b[0m\u001b[0;34m(\u001b[0m\u001b[0;34m)\u001b[0m\u001b[0;34m\u001b[0m\u001b[0m\n\u001b[0m\u001b[1;32m     16\u001b[0m             \u001b[0mtime\u001b[0m\u001b[0;34m.\u001b[0m\u001b[0msleep\u001b[0m\u001b[0;34m(\u001b[0m\u001b[0;36m0.4\u001b[0m\u001b[0;34m)\u001b[0m\u001b[0;34m\u001b[0m\u001b[0m\n",
      "\u001b[0;32m/usr/local/lib/python3.6/site-packages/selenium/webdriver/remote/webdriver.py\u001b[0m in \u001b[0;36mfind_element_by_css_selector\u001b[0;34m(self, css_selector)\u001b[0m\n\u001b[1;32m    455\u001b[0m             \u001b[0mdriver\u001b[0m\u001b[0;34m.\u001b[0m\u001b[0mfind_element_by_css_selector\u001b[0m\u001b[0;34m(\u001b[0m\u001b[0;34m'#foo'\u001b[0m\u001b[0;34m)\u001b[0m\u001b[0;34m\u001b[0m\u001b[0m\n\u001b[1;32m    456\u001b[0m         \"\"\"\n\u001b[0;32m--> 457\u001b[0;31m         \u001b[0;32mreturn\u001b[0m \u001b[0mself\u001b[0m\u001b[0;34m.\u001b[0m\u001b[0mfind_element\u001b[0m\u001b[0;34m(\u001b[0m\u001b[0mby\u001b[0m\u001b[0;34m=\u001b[0m\u001b[0mBy\u001b[0m\u001b[0;34m.\u001b[0m\u001b[0mCSS_SELECTOR\u001b[0m\u001b[0;34m,\u001b[0m \u001b[0mvalue\u001b[0m\u001b[0;34m=\u001b[0m\u001b[0mcss_selector\u001b[0m\u001b[0;34m)\u001b[0m\u001b[0;34m\u001b[0m\u001b[0m\n\u001b[0m\u001b[1;32m    458\u001b[0m \u001b[0;34m\u001b[0m\u001b[0m\n\u001b[1;32m    459\u001b[0m     \u001b[0;32mdef\u001b[0m \u001b[0mfind_elements_by_css_selector\u001b[0m\u001b[0;34m(\u001b[0m\u001b[0mself\u001b[0m\u001b[0;34m,\u001b[0m \u001b[0mcss_selector\u001b[0m\u001b[0;34m)\u001b[0m\u001b[0;34m:\u001b[0m\u001b[0;34m\u001b[0m\u001b[0m\n",
      "\u001b[0;32m/usr/local/lib/python3.6/site-packages/selenium/webdriver/remote/webdriver.py\u001b[0m in \u001b[0;36mfind_element\u001b[0;34m(self, by, value)\u001b[0m\n\u001b[1;32m    789\u001b[0m         return self.execute(Command.FIND_ELEMENT, {\n\u001b[1;32m    790\u001b[0m             \u001b[0;34m'using'\u001b[0m\u001b[0;34m:\u001b[0m \u001b[0mby\u001b[0m\u001b[0;34m,\u001b[0m\u001b[0;34m\u001b[0m\u001b[0m\n\u001b[0;32m--> 791\u001b[0;31m             'value': value})['value']\n\u001b[0m\u001b[1;32m    792\u001b[0m \u001b[0;34m\u001b[0m\u001b[0m\n\u001b[1;32m    793\u001b[0m     \u001b[0;32mdef\u001b[0m \u001b[0mfind_elements\u001b[0m\u001b[0;34m(\u001b[0m\u001b[0mself\u001b[0m\u001b[0;34m,\u001b[0m \u001b[0mby\u001b[0m\u001b[0;34m=\u001b[0m\u001b[0mBy\u001b[0m\u001b[0;34m.\u001b[0m\u001b[0mID\u001b[0m\u001b[0;34m,\u001b[0m \u001b[0mvalue\u001b[0m\u001b[0;34m=\u001b[0m\u001b[0;32mNone\u001b[0m\u001b[0;34m)\u001b[0m\u001b[0;34m:\u001b[0m\u001b[0;34m\u001b[0m\u001b[0m\n",
      "\u001b[0;32m/usr/local/lib/python3.6/site-packages/selenium/webdriver/remote/webdriver.py\u001b[0m in \u001b[0;36mexecute\u001b[0;34m(self, driver_command, params)\u001b[0m\n\u001b[1;32m    254\u001b[0m         \u001b[0mresponse\u001b[0m \u001b[0;34m=\u001b[0m \u001b[0mself\u001b[0m\u001b[0;34m.\u001b[0m\u001b[0mcommand_executor\u001b[0m\u001b[0;34m.\u001b[0m\u001b[0mexecute\u001b[0m\u001b[0;34m(\u001b[0m\u001b[0mdriver_command\u001b[0m\u001b[0;34m,\u001b[0m \u001b[0mparams\u001b[0m\u001b[0;34m)\u001b[0m\u001b[0;34m\u001b[0m\u001b[0m\n\u001b[1;32m    255\u001b[0m         \u001b[0;32mif\u001b[0m \u001b[0mresponse\u001b[0m\u001b[0;34m:\u001b[0m\u001b[0;34m\u001b[0m\u001b[0m\n\u001b[0;32m--> 256\u001b[0;31m             \u001b[0mself\u001b[0m\u001b[0;34m.\u001b[0m\u001b[0merror_handler\u001b[0m\u001b[0;34m.\u001b[0m\u001b[0mcheck_response\u001b[0m\u001b[0;34m(\u001b[0m\u001b[0mresponse\u001b[0m\u001b[0;34m)\u001b[0m\u001b[0;34m\u001b[0m\u001b[0m\n\u001b[0m\u001b[1;32m    257\u001b[0m             response['value'] = self._unwrap_value(\n\u001b[1;32m    258\u001b[0m                 response.get('value', None))\n",
      "\u001b[0;32m/usr/local/lib/python3.6/site-packages/selenium/webdriver/remote/errorhandler.py\u001b[0m in \u001b[0;36mcheck_response\u001b[0;34m(self, response)\u001b[0m\n\u001b[1;32m    192\u001b[0m         \u001b[0;32melif\u001b[0m \u001b[0mexception_class\u001b[0m \u001b[0;34m==\u001b[0m \u001b[0mUnexpectedAlertPresentException\u001b[0m \u001b[0;32mand\u001b[0m \u001b[0;34m'alert'\u001b[0m \u001b[0;32min\u001b[0m \u001b[0mvalue\u001b[0m\u001b[0;34m:\u001b[0m\u001b[0;34m\u001b[0m\u001b[0m\n\u001b[1;32m    193\u001b[0m             \u001b[0;32mraise\u001b[0m \u001b[0mexception_class\u001b[0m\u001b[0;34m(\u001b[0m\u001b[0mmessage\u001b[0m\u001b[0;34m,\u001b[0m \u001b[0mscreen\u001b[0m\u001b[0;34m,\u001b[0m \u001b[0mstacktrace\u001b[0m\u001b[0;34m,\u001b[0m \u001b[0mvalue\u001b[0m\u001b[0;34m[\u001b[0m\u001b[0;34m'alert'\u001b[0m\u001b[0;34m]\u001b[0m\u001b[0;34m.\u001b[0m\u001b[0mget\u001b[0m\u001b[0;34m(\u001b[0m\u001b[0;34m'text'\u001b[0m\u001b[0;34m)\u001b[0m\u001b[0;34m)\u001b[0m\u001b[0;34m\u001b[0m\u001b[0m\n\u001b[0;32m--> 194\u001b[0;31m         \u001b[0;32mraise\u001b[0m \u001b[0mexception_class\u001b[0m\u001b[0;34m(\u001b[0m\u001b[0mmessage\u001b[0m\u001b[0;34m,\u001b[0m \u001b[0mscreen\u001b[0m\u001b[0;34m,\u001b[0m \u001b[0mstacktrace\u001b[0m\u001b[0;34m)\u001b[0m\u001b[0;34m\u001b[0m\u001b[0m\n\u001b[0m\u001b[1;32m    195\u001b[0m \u001b[0;34m\u001b[0m\u001b[0m\n\u001b[1;32m    196\u001b[0m     \u001b[0;32mdef\u001b[0m \u001b[0m_value_or_default\u001b[0m\u001b[0;34m(\u001b[0m\u001b[0mself\u001b[0m\u001b[0;34m,\u001b[0m \u001b[0mobj\u001b[0m\u001b[0;34m,\u001b[0m \u001b[0mkey\u001b[0m\u001b[0;34m,\u001b[0m \u001b[0mdefault\u001b[0m\u001b[0;34m)\u001b[0m\u001b[0;34m:\u001b[0m\u001b[0;34m\u001b[0m\u001b[0m\n",
      "\u001b[0;31mNoSuchElementException\u001b[0m: Message: Unable to locate element: a._3a693.coreSpriteRightPaginationArrow\n"
     ]
    }
   ],
   "source": [
    "%%time\n",
    "insta_auto(hash_tag='파이썬', count_number=100)"
>>>>>>> parent of 54ceee9... 코드 전체 클래스
   ]
  },
  {
   "cell_type": "code",
   "execution_count": 50,
   "metadata": {
    "collapsed": true
   },
   "outputs": [],
   "source": [
    "browser.find_elements_by_css_selector(\"div._4rbun\")[9].click()"
   ]
  },
  {
   "cell_type": "code",
   "execution_count": 41,
   "metadata": {},
   "outputs": [
    {
     "name": "stdout",
     "output_type": "stream",
     "text": [
      "파이썬 좋아요 작업을 시작합니다\n"
     ]
    },
    {
     "ename": "IndexError",
     "evalue": "list index out of range",
     "output_type": "error",
     "traceback": [
      "\u001b[0;31m---------------------------------------------------------------------------\u001b[0m",
      "\u001b[0;31mIndexError\u001b[0m                                Traceback (most recent call last)",
      "\u001b[0;32m<ipython-input-41-608786df3568>\u001b[0m in \u001b[0;36m<module>\u001b[0;34m()\u001b[0m\n\u001b[1;32m      6\u001b[0m \u001b[0mbrowser\u001b[0m\u001b[0;34m.\u001b[0m\u001b[0mexecute_script\u001b[0m\u001b[0;34m(\u001b[0m\u001b[0;34m\"window.scrollTo(0, document.body.scrollHeight);\"\u001b[0m\u001b[0;34m)\u001b[0m\u001b[0;34m\u001b[0m\u001b[0m\n\u001b[1;32m      7\u001b[0m \u001b[0mtime\u001b[0m\u001b[0;34m.\u001b[0m\u001b[0msleep\u001b[0m\u001b[0;34m(\u001b[0m\u001b[0;36m0.12\u001b[0m\u001b[0;34m)\u001b[0m\u001b[0;34m\u001b[0m\u001b[0m\n\u001b[0;32m----> 8\u001b[0;31m \u001b[0mbrowser\u001b[0m\u001b[0;34m.\u001b[0m\u001b[0mfind_elements_by_css_selector\u001b[0m\u001b[0;34m(\u001b[0m\u001b[0;34m\"div._mli86\"\u001b[0m\u001b[0;34m)\u001b[0m\u001b[0;34m[\u001b[0m\u001b[0;36m9\u001b[0m\u001b[0;34m]\u001b[0m\u001b[0;34m.\u001b[0m\u001b[0mclick\u001b[0m\u001b[0;34m(\u001b[0m\u001b[0;34m)\u001b[0m\u001b[0;34m\u001b[0m\u001b[0m\n\u001b[0m\u001b[1;32m      9\u001b[0m \u001b[0mtime\u001b[0m\u001b[0;34m.\u001b[0m\u001b[0msleep\u001b[0m\u001b[0;34m(\u001b[0m\u001b[0;36m1\u001b[0m\u001b[0;34m)\u001b[0m\u001b[0;34m\u001b[0m\u001b[0m\n\u001b[1;32m     10\u001b[0m \u001b[0;32mfor\u001b[0m \u001b[0mi\u001b[0m \u001b[0;32min\u001b[0m \u001b[0mrange\u001b[0m\u001b[0;34m(\u001b[0m\u001b[0;36m1\u001b[0m\u001b[0;34m,\u001b[0m\u001b[0mint\u001b[0m\u001b[0;34m(\u001b[0m\u001b[0mcount_number\u001b[0m\u001b[0;34m)\u001b[0m\u001b[0;34m)\u001b[0m\u001b[0;34m:\u001b[0m\u001b[0;34m\u001b[0m\u001b[0m\n",
      "\u001b[0;31mIndexError\u001b[0m: list index out of range"
     ]
    }
   ],
   "source": [
    "hash_tag = '파이썬'\n",
    "count_number = 200\n",
    "print(hash_tag +\" 좋아요 작업을 시작합니다\")\n",
    "browser.get(\"https://www.instagram.com/explore/tags/\" + quote(hash_tag))\n",
    "time.sleep(3)\n",
    "browser.execute_script(\"window.scrollTo(0, document.body.scrollHeight);\")\n",
    "time.sleep(0.12)\n",
    "browser.find_elements_by_css_selector(\"div._mli86\")[9].click()\n",
    "time.sleep(1)\n",
    "for i in range(1,int(count_number)):\n",
    "    print(hash_tag, i)\n",
    "    try:\n",
    "        browser.find_element_by_css_selector(\"span.coreSpriteHeartOpen\").click()\n",
    "        time.sleep(2)\n",
    "        browser.find_element_by_css_selector(\"a._3a693.coreSpriteRightPaginationArrow\").click()\n",
    "        time.sleep(2)\n",
    "    except:\n",
    "        browser.find_element_by_css_selector(\"a._3a693.coreSpriteRightPaginationArrow\").click()\n",
    "        time.sleep(0.4)"
   ]
  },
  {
   "cell_type": "code",
   "execution_count": 58,
   "metadata": {},
   "outputs": [
    {
     "name": "stdout",
     "output_type": "stream",
     "text": [
      "파이썬 좋아요 작업을 시작합니다\n",
      "파이썬 1\n"
     ]
    },
    {
     "ename": "NoSuchElementException",
     "evalue": "Message: Unable to locate element: a._3a693.coreSpriteRightPaginationArrow\n",
     "output_type": "error",
     "traceback": [
      "\u001b[0;31m---------------------------------------------------------------------------\u001b[0m",
      "\u001b[0;31mNoSuchElementException\u001b[0m                    Traceback (most recent call last)",
      "\u001b[0;32m<ipython-input-57-a9ae843715b8>\u001b[0m in \u001b[0;36minsta_auto\u001b[0;34m(hash_tag, count_number)\u001b[0m\n\u001b[1;32m      9\u001b[0m         \u001b[0;32mtry\u001b[0m\u001b[0;34m:\u001b[0m\u001b[0;34m\u001b[0m\u001b[0m\n\u001b[0;32m---> 10\u001b[0;31m             \u001b[0mbrowser\u001b[0m\u001b[0;34m.\u001b[0m\u001b[0mfind_element_by_css_selector\u001b[0m\u001b[0;34m(\u001b[0m\u001b[0;34m\"span.coreSpriteHeartOpen\"\u001b[0m\u001b[0;34m)\u001b[0m\u001b[0;34m.\u001b[0m\u001b[0mclick\u001b[0m\u001b[0;34m(\u001b[0m\u001b[0;34m)\u001b[0m\u001b[0;34m\u001b[0m\u001b[0m\n\u001b[0m\u001b[1;32m     11\u001b[0m             \u001b[0mtime\u001b[0m\u001b[0;34m.\u001b[0m\u001b[0msleep\u001b[0m\u001b[0;34m(\u001b[0m\u001b[0;36m2\u001b[0m\u001b[0;34m)\u001b[0m\u001b[0;34m\u001b[0m\u001b[0m\n",
      "\u001b[0;32m/usr/local/lib/python3.6/site-packages/selenium/webdriver/remote/webdriver.py\u001b[0m in \u001b[0;36mfind_element_by_css_selector\u001b[0;34m(self, css_selector)\u001b[0m\n\u001b[1;32m    456\u001b[0m         \"\"\"\n\u001b[0;32m--> 457\u001b[0;31m         \u001b[0;32mreturn\u001b[0m \u001b[0mself\u001b[0m\u001b[0;34m.\u001b[0m\u001b[0mfind_element\u001b[0m\u001b[0;34m(\u001b[0m\u001b[0mby\u001b[0m\u001b[0;34m=\u001b[0m\u001b[0mBy\u001b[0m\u001b[0;34m.\u001b[0m\u001b[0mCSS_SELECTOR\u001b[0m\u001b[0;34m,\u001b[0m \u001b[0mvalue\u001b[0m\u001b[0;34m=\u001b[0m\u001b[0mcss_selector\u001b[0m\u001b[0;34m)\u001b[0m\u001b[0;34m\u001b[0m\u001b[0m\n\u001b[0m\u001b[1;32m    458\u001b[0m \u001b[0;34m\u001b[0m\u001b[0m\n",
      "\u001b[0;32m/usr/local/lib/python3.6/site-packages/selenium/webdriver/remote/webdriver.py\u001b[0m in \u001b[0;36mfind_element\u001b[0;34m(self, by, value)\u001b[0m\n\u001b[1;32m    790\u001b[0m             \u001b[0;34m'using'\u001b[0m\u001b[0;34m:\u001b[0m \u001b[0mby\u001b[0m\u001b[0;34m,\u001b[0m\u001b[0;34m\u001b[0m\u001b[0m\n\u001b[0;32m--> 791\u001b[0;31m             'value': value})['value']\n\u001b[0m\u001b[1;32m    792\u001b[0m \u001b[0;34m\u001b[0m\u001b[0m\n",
      "\u001b[0;32m/usr/local/lib/python3.6/site-packages/selenium/webdriver/remote/webdriver.py\u001b[0m in \u001b[0;36mexecute\u001b[0;34m(self, driver_command, params)\u001b[0m\n\u001b[1;32m    255\u001b[0m         \u001b[0;32mif\u001b[0m \u001b[0mresponse\u001b[0m\u001b[0;34m:\u001b[0m\u001b[0;34m\u001b[0m\u001b[0m\n\u001b[0;32m--> 256\u001b[0;31m             \u001b[0mself\u001b[0m\u001b[0;34m.\u001b[0m\u001b[0merror_handler\u001b[0m\u001b[0;34m.\u001b[0m\u001b[0mcheck_response\u001b[0m\u001b[0;34m(\u001b[0m\u001b[0mresponse\u001b[0m\u001b[0;34m)\u001b[0m\u001b[0;34m\u001b[0m\u001b[0m\n\u001b[0m\u001b[1;32m    257\u001b[0m             response['value'] = self._unwrap_value(\n",
      "\u001b[0;32m/usr/local/lib/python3.6/site-packages/selenium/webdriver/remote/errorhandler.py\u001b[0m in \u001b[0;36mcheck_response\u001b[0;34m(self, response)\u001b[0m\n\u001b[1;32m    193\u001b[0m             \u001b[0;32mraise\u001b[0m \u001b[0mexception_class\u001b[0m\u001b[0;34m(\u001b[0m\u001b[0mmessage\u001b[0m\u001b[0;34m,\u001b[0m \u001b[0mscreen\u001b[0m\u001b[0;34m,\u001b[0m \u001b[0mstacktrace\u001b[0m\u001b[0;34m,\u001b[0m \u001b[0mvalue\u001b[0m\u001b[0;34m[\u001b[0m\u001b[0;34m'alert'\u001b[0m\u001b[0;34m]\u001b[0m\u001b[0;34m.\u001b[0m\u001b[0mget\u001b[0m\u001b[0;34m(\u001b[0m\u001b[0;34m'text'\u001b[0m\u001b[0;34m)\u001b[0m\u001b[0;34m)\u001b[0m\u001b[0;34m\u001b[0m\u001b[0m\n\u001b[0;32m--> 194\u001b[0;31m         \u001b[0;32mraise\u001b[0m \u001b[0mexception_class\u001b[0m\u001b[0;34m(\u001b[0m\u001b[0mmessage\u001b[0m\u001b[0;34m,\u001b[0m \u001b[0mscreen\u001b[0m\u001b[0;34m,\u001b[0m \u001b[0mstacktrace\u001b[0m\u001b[0;34m)\u001b[0m\u001b[0;34m\u001b[0m\u001b[0m\n\u001b[0m\u001b[1;32m    195\u001b[0m \u001b[0;34m\u001b[0m\u001b[0m\n",
      "\u001b[0;31mNoSuchElementException\u001b[0m: Message: Unable to locate element: span.coreSpriteHeartOpen\n",
      "\nDuring handling of the above exception, another exception occurred:\n",
      "\u001b[0;31mNoSuchElementException\u001b[0m                    Traceback (most recent call last)",
      "\u001b[0;32m<timed eval>\u001b[0m in \u001b[0;36m<module>\u001b[0;34m()\u001b[0m\n",
      "\u001b[0;32m<ipython-input-57-a9ae843715b8>\u001b[0m in \u001b[0;36minsta_auto\u001b[0;34m(hash_tag, count_number)\u001b[0m\n\u001b[1;32m     13\u001b[0m             \u001b[0mtime\u001b[0m\u001b[0;34m.\u001b[0m\u001b[0msleep\u001b[0m\u001b[0;34m(\u001b[0m\u001b[0;36m2\u001b[0m\u001b[0;34m)\u001b[0m\u001b[0;34m\u001b[0m\u001b[0m\n\u001b[1;32m     14\u001b[0m         \u001b[0;32mexcept\u001b[0m\u001b[0;34m:\u001b[0m\u001b[0;34m\u001b[0m\u001b[0m\n\u001b[0;32m---> 15\u001b[0;31m             \u001b[0mbrowser\u001b[0m\u001b[0;34m.\u001b[0m\u001b[0mfind_element_by_css_selector\u001b[0m\u001b[0;34m(\u001b[0m\u001b[0;34m\"a._3a693.coreSpriteRightPaginationArrow\"\u001b[0m\u001b[0;34m)\u001b[0m\u001b[0;34m.\u001b[0m\u001b[0mclick\u001b[0m\u001b[0;34m(\u001b[0m\u001b[0;34m)\u001b[0m\u001b[0;34m\u001b[0m\u001b[0m\n\u001b[0m\u001b[1;32m     16\u001b[0m             \u001b[0mtime\u001b[0m\u001b[0;34m.\u001b[0m\u001b[0msleep\u001b[0m\u001b[0;34m(\u001b[0m\u001b[0;36m0.4\u001b[0m\u001b[0;34m)\u001b[0m\u001b[0;34m\u001b[0m\u001b[0m\n",
      "\u001b[0;32m/usr/local/lib/python3.6/site-packages/selenium/webdriver/remote/webdriver.py\u001b[0m in \u001b[0;36mfind_element_by_css_selector\u001b[0;34m(self, css_selector)\u001b[0m\n\u001b[1;32m    455\u001b[0m             \u001b[0mdriver\u001b[0m\u001b[0;34m.\u001b[0m\u001b[0mfind_element_by_css_selector\u001b[0m\u001b[0;34m(\u001b[0m\u001b[0;34m'#foo'\u001b[0m\u001b[0;34m)\u001b[0m\u001b[0;34m\u001b[0m\u001b[0m\n\u001b[1;32m    456\u001b[0m         \"\"\"\n\u001b[0;32m--> 457\u001b[0;31m         \u001b[0;32mreturn\u001b[0m \u001b[0mself\u001b[0m\u001b[0;34m.\u001b[0m\u001b[0mfind_element\u001b[0m\u001b[0;34m(\u001b[0m\u001b[0mby\u001b[0m\u001b[0;34m=\u001b[0m\u001b[0mBy\u001b[0m\u001b[0;34m.\u001b[0m\u001b[0mCSS_SELECTOR\u001b[0m\u001b[0;34m,\u001b[0m \u001b[0mvalue\u001b[0m\u001b[0;34m=\u001b[0m\u001b[0mcss_selector\u001b[0m\u001b[0;34m)\u001b[0m\u001b[0;34m\u001b[0m\u001b[0m\n\u001b[0m\u001b[1;32m    458\u001b[0m \u001b[0;34m\u001b[0m\u001b[0m\n\u001b[1;32m    459\u001b[0m     \u001b[0;32mdef\u001b[0m \u001b[0mfind_elements_by_css_selector\u001b[0m\u001b[0;34m(\u001b[0m\u001b[0mself\u001b[0m\u001b[0;34m,\u001b[0m \u001b[0mcss_selector\u001b[0m\u001b[0;34m)\u001b[0m\u001b[0;34m:\u001b[0m\u001b[0;34m\u001b[0m\u001b[0m\n",
      "\u001b[0;32m/usr/local/lib/python3.6/site-packages/selenium/webdriver/remote/webdriver.py\u001b[0m in \u001b[0;36mfind_element\u001b[0;34m(self, by, value)\u001b[0m\n\u001b[1;32m    789\u001b[0m         return self.execute(Command.FIND_ELEMENT, {\n\u001b[1;32m    790\u001b[0m             \u001b[0;34m'using'\u001b[0m\u001b[0;34m:\u001b[0m \u001b[0mby\u001b[0m\u001b[0;34m,\u001b[0m\u001b[0;34m\u001b[0m\u001b[0m\n\u001b[0;32m--> 791\u001b[0;31m             'value': value})['value']\n\u001b[0m\u001b[1;32m    792\u001b[0m \u001b[0;34m\u001b[0m\u001b[0m\n\u001b[1;32m    793\u001b[0m     \u001b[0;32mdef\u001b[0m \u001b[0mfind_elements\u001b[0m\u001b[0;34m(\u001b[0m\u001b[0mself\u001b[0m\u001b[0;34m,\u001b[0m \u001b[0mby\u001b[0m\u001b[0;34m=\u001b[0m\u001b[0mBy\u001b[0m\u001b[0;34m.\u001b[0m\u001b[0mID\u001b[0m\u001b[0;34m,\u001b[0m \u001b[0mvalue\u001b[0m\u001b[0;34m=\u001b[0m\u001b[0;32mNone\u001b[0m\u001b[0;34m)\u001b[0m\u001b[0;34m:\u001b[0m\u001b[0;34m\u001b[0m\u001b[0m\n",
      "\u001b[0;32m/usr/local/lib/python3.6/site-packages/selenium/webdriver/remote/webdriver.py\u001b[0m in \u001b[0;36mexecute\u001b[0;34m(self, driver_command, params)\u001b[0m\n\u001b[1;32m    254\u001b[0m         \u001b[0mresponse\u001b[0m \u001b[0;34m=\u001b[0m \u001b[0mself\u001b[0m\u001b[0;34m.\u001b[0m\u001b[0mcommand_executor\u001b[0m\u001b[0;34m.\u001b[0m\u001b[0mexecute\u001b[0m\u001b[0;34m(\u001b[0m\u001b[0mdriver_command\u001b[0m\u001b[0;34m,\u001b[0m \u001b[0mparams\u001b[0m\u001b[0;34m)\u001b[0m\u001b[0;34m\u001b[0m\u001b[0m\n\u001b[1;32m    255\u001b[0m         \u001b[0;32mif\u001b[0m \u001b[0mresponse\u001b[0m\u001b[0;34m:\u001b[0m\u001b[0;34m\u001b[0m\u001b[0m\n\u001b[0;32m--> 256\u001b[0;31m             \u001b[0mself\u001b[0m\u001b[0;34m.\u001b[0m\u001b[0merror_handler\u001b[0m\u001b[0;34m.\u001b[0m\u001b[0mcheck_response\u001b[0m\u001b[0;34m(\u001b[0m\u001b[0mresponse\u001b[0m\u001b[0;34m)\u001b[0m\u001b[0;34m\u001b[0m\u001b[0m\n\u001b[0m\u001b[1;32m    257\u001b[0m             response['value'] = self._unwrap_value(\n\u001b[1;32m    258\u001b[0m                 response.get('value', None))\n",
      "\u001b[0;32m/usr/local/lib/python3.6/site-packages/selenium/webdriver/remote/errorhandler.py\u001b[0m in \u001b[0;36mcheck_response\u001b[0;34m(self, response)\u001b[0m\n\u001b[1;32m    192\u001b[0m         \u001b[0;32melif\u001b[0m \u001b[0mexception_class\u001b[0m \u001b[0;34m==\u001b[0m \u001b[0mUnexpectedAlertPresentException\u001b[0m \u001b[0;32mand\u001b[0m \u001b[0;34m'alert'\u001b[0m \u001b[0;32min\u001b[0m \u001b[0mvalue\u001b[0m\u001b[0;34m:\u001b[0m\u001b[0;34m\u001b[0m\u001b[0m\n\u001b[1;32m    193\u001b[0m             \u001b[0;32mraise\u001b[0m \u001b[0mexception_class\u001b[0m\u001b[0;34m(\u001b[0m\u001b[0mmessage\u001b[0m\u001b[0;34m,\u001b[0m \u001b[0mscreen\u001b[0m\u001b[0;34m,\u001b[0m \u001b[0mstacktrace\u001b[0m\u001b[0;34m,\u001b[0m \u001b[0mvalue\u001b[0m\u001b[0;34m[\u001b[0m\u001b[0;34m'alert'\u001b[0m\u001b[0;34m]\u001b[0m\u001b[0;34m.\u001b[0m\u001b[0mget\u001b[0m\u001b[0;34m(\u001b[0m\u001b[0;34m'text'\u001b[0m\u001b[0;34m)\u001b[0m\u001b[0;34m)\u001b[0m\u001b[0;34m\u001b[0m\u001b[0m\n\u001b[0;32m--> 194\u001b[0;31m         \u001b[0;32mraise\u001b[0m \u001b[0mexception_class\u001b[0m\u001b[0;34m(\u001b[0m\u001b[0mmessage\u001b[0m\u001b[0;34m,\u001b[0m \u001b[0mscreen\u001b[0m\u001b[0;34m,\u001b[0m \u001b[0mstacktrace\u001b[0m\u001b[0;34m)\u001b[0m\u001b[0;34m\u001b[0m\u001b[0m\n\u001b[0m\u001b[1;32m    195\u001b[0m \u001b[0;34m\u001b[0m\u001b[0m\n\u001b[1;32m    196\u001b[0m     \u001b[0;32mdef\u001b[0m \u001b[0m_value_or_default\u001b[0m\u001b[0;34m(\u001b[0m\u001b[0mself\u001b[0m\u001b[0;34m,\u001b[0m \u001b[0mobj\u001b[0m\u001b[0;34m,\u001b[0m \u001b[0mkey\u001b[0m\u001b[0;34m,\u001b[0m \u001b[0mdefault\u001b[0m\u001b[0;34m)\u001b[0m\u001b[0;34m:\u001b[0m\u001b[0;34m\u001b[0m\u001b[0m\n",
      "\u001b[0;31mNoSuchElementException\u001b[0m: Message: Unable to locate element: a._3a693.coreSpriteRightPaginationArrow\n"
     ]
    }
   ],
   "source": [
    "%%time\n",
    "insta_auto(hash_tag='파이썬', count_number=100)"
   ]
  },
  {
   "cell_type": "code",
   "execution_count": 17,
   "metadata": {
    "collapsed": true
   },
   "outputs": [],
   "source": [
    "insta_auto(hash_tag=\"개발자\",count_number=30)"
   ]
  },
  {
   "cell_type": "code",
<<<<<<< HEAD
<<<<<<< HEAD
   "execution_count": 20,
=======
   "execution_count": 6,
>>>>>>> parent of 54ceee9... 코드 전체 클래스
=======
   "execution_count": 6,
>>>>>>> 079d45a922a59794450d02e8537de7917e7e0cec
   "metadata": {
    "collapsed": true
   },
   "outputs": [],
   "source": [
    "def insta_auto(hash_tag, count_number):\n",
    "    print(hash_tag +\" 좋아요 작업을 시작합니다\")\n",
    "    browser.maximize_window()\n",
    "    browser.get(\"https://www.instagram.com/explore/tags/\" + quote(hash_tag))\n",
    "    browser.find_elements_by_css_selector(\"div._4rbun\")[9].click()\n",
    "    time.sleep(1)\n",
    "    print('click ok')\n",
    "    for i in range(1,int(count_number)):\n",
    "        try:\n",
    "            browser.find_element_by_css_selector(\"span.coreSpriteHeartOpen\").click()\n",
    "            print('i :', i)\n",
    "            time.sleep(3.4)\n",
    "            browser.find_element_by_css_selector(\"a._3a693.coreSpriteRightPaginationArrow\").click()\n",
    "            print('i+:', i)\n",
    "            time.sleep(2)\n",
    "        except:\n",
    "            print('before next')\n",
    "            browser.find_element_by_css_selector(\"a._3a693.coreSpriteRightPaginationArrow\").click()\n",
    "#             browser.find_element_by_xpath(\"//*[contains(text(), 'n')]\").click()\n",
    "            print('after next')\n",
    "            #browser.find_elemient_by_css_selector(\"a._de018.coreSpriteRightPaginationArrow\").click()\n",
    "            time.sleep(1.4)"
   ]
  },
  {
   "cell_type": "code",
<<<<<<< HEAD
<<<<<<< HEAD
   "execution_count": 21,
=======
   "execution_count": 7,
>>>>>>> parent of 54ceee9... 코드 전체 클래스
=======
   "execution_count": 7,
>>>>>>> 079d45a922a59794450d02e8537de7917e7e0cec
   "metadata": {
    "scrolled": false
   },
   "outputs": [
    {
     "name": "stdout",
     "output_type": "stream",
     "text": [
      "coding 좋아요 작업을 시작합니다\n",
<<<<<<< HEAD
      "click ok\n",
      "i : 1\n",
      "i+: 1\n"
     ]
    }
   ],
   "source": [
    "insta_auto(\"coding\",2)"
   ]
  },
  {
   "cell_type": "code",
   "execution_count": 24,
   "metadata": {},
   "outputs": [
    {
     "data": {
      "text/plain": [
       "True"
      ]
     },
     "execution_count": 24,
     "metadata": {},
     "output_type": "execute_result"
    }
   ],
   "source": [
    "browser.save_screenshot('now.jpg')"
   ]
  },
  {
   "cell_type": "code",
   "execution_count": 8,
   "metadata": {},
   "outputs": [
    {
     "name": "stdout",
     "output_type": "stream",
     "text": [
      "developer 좋아요 작업을 시작합니다\n",
=======
      "click ok\n",
      "i : 1\n",
      "i+: 1\n"
     ]
    }
   ],
   "source": [
    "insta_auto(\"coding\",2)"
   ]
  },
  {
   "cell_type": "code",
   "execution_count": 24,
   "metadata": {},
   "outputs": [
    {
     "data": {
      "text/plain": [
       "True"
      ]
     },
     "execution_count": 24,
     "metadata": {},
     "output_type": "execute_result"
    }
   ],
   "source": [
    "browser.save_screenshot('now.jpg')"
   ]
  },
  {
   "cell_type": "code",
   "execution_count": 8,
   "metadata": {},
   "outputs": [
    {
     "name": "stdout",
     "output_type": "stream",
     "text": [
      "developer 좋아요 작업을 시작합니다\n",
      "click ok\n",
      "before next\n",
      "after next\n",
      "i : 2\n",
      "i+: 2\n"
     ]
    }
   ],
   "source": [
    "insta_auto(\"developer\",3)"
   ]
  },
  {
   "cell_type": "code",
   "execution_count": 9,
   "metadata": {},
   "outputs": [
    {
     "name": "stdout",
     "output_type": "stream",
     "text": [
      "빅데이터 좋아요 작업을 시작합니다\n",
      "click ok\n",
      "before next\n",
      "after next\n",
      "i : 2\n",
      "i+: 2\n",
      "i : 3\n",
      "i+: 3\n",
      "a\n",
      "머신러닝 좋아요 작업을 시작합니다\n",
>>>>>>> parent of 54ceee9... 코드 전체 클래스
      "click ok\n",
      "i : 1\n",
      "i+: 1\n",
      "i : 2\n",
<<<<<<< HEAD
      "i+: 2\n"
=======
      "i+: 2\n",
      "i : 3\n",
      "i+: 3\n",
      "b\n",
      "개발자 좋아요 작업을 시작합니다\n",
      "click ok\n",
      "i : 1\n",
      "i+: 1\n",
      "i : 2\n",
      "i+: 2\n",
      "i : 3\n",
      "i+: 3\n",
      "c\n"
>>>>>>> parent of 54ceee9... 코드 전체 클래스
     ]
    }
   ],
   "source": [
<<<<<<< HEAD
    "insta_auto(\"developer\",3)"
=======
    "insta_auto(\"빅데이터\",4)\n",
    "print('a')\n",
    "insta_auto(\"머신러닝\",4)\n",
    "print('b')\n",
    "insta_auto(\"개발자\",4)\n",
    "print('c')"
>>>>>>> parent of 54ceee9... 코드 전체 클래스
   ]
  },
  {
   "cell_type": "code",
   "execution_count": 9,
   "metadata": {},
   "outputs": [
    {
     "name": "stdout",
     "output_type": "stream",
     "text": [
      "빅데이터 좋아요 작업을 시작합니다\n",
      "click ok\n",
      "i : 1\n",
      "i+: 1\n",
      "i : 2\n",
      "i+: 2\n",
      "i : 3\n",
      "i+: 3\n",
      "a\n",
      "머신러닝 좋아요 작업을 시작합니다\n",
      "click ok\n",
      "i : 1\n",
      "i+: 1\n",
      "i : 2\n",
      "i+: 2\n",
      "i : 3\n",
      "i+: 3\n",
      "b\n",
      "개발자 좋아요 작업을 시작합니다\n",
      "click ok\n",
      "i : 1\n",
      "i+: 1\n",
      "i : 2\n",
      "i+: 2\n",
      "i : 3\n",
      "i+: 3\n",
      "c\n"
     ]
    }
   ],
   "source": [
    "insta_auto(\"빅데이터\",4)\n",
    "print('a')\n",
    "insta_auto(\"머신러닝\",4)\n",
    "print('b')\n",
    "insta_auto(\"개발자\",4)\n",
    "print('c')"
   ]
  },
  {
   "cell_type": "code",
   "execution_count": null,
   "metadata": {
    "collapsed": true
   },
   "outputs": [],
   "source": []
  }
 ],
 "metadata": {
  "kernelspec": {
   "display_name": "Python 3",
   "language": "python",
   "name": "python3"
  },
  "language_info": {
   "codemirror_mode": {
    "name": "ipython",
    "version": 3
   },
   "file_extension": ".py",
   "mimetype": "text/x-python",
   "name": "python",
   "nbconvert_exporter": "python",
   "pygments_lexer": "ipython3",
   "version": "3.6.1"
  },
  "latex_envs": {
   "LaTeX_envs_menu_present": true,
   "autocomplete": true,
   "bibliofile": "biblio.bib",
   "cite_by": "apalike",
   "current_citInitial": 1,
   "eqLabelWithNumbers": true,
   "eqNumInitial": 1,
   "hotkeys": {
    "equation": "Ctrl-E",
    "itemize": "Ctrl-I"
   },
   "labels_anchors": false,
   "latex_user_defs": false,
   "report_style_numbering": false,
   "user_envs_cfg": false
  }
 },
 "nbformat": 4,
 "nbformat_minor": 1
}
