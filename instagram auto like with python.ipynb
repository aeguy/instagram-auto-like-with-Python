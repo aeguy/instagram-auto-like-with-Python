{
 "cells": [
  {
   "cell_type": "code",
   "execution_count": 25,
   "metadata": {
    "collapsed": true
   },
   "outputs": [],
   "source": [
    "import time\n",
    "import datetime\n",
    "import random\n",
    "from selenium import webdriver\n",
    "from slacker import Slacker\n",
    "from urllib.parse import quote"
   ]
  },
  {
   "cell_type": "code",
   "execution_count": 66,
   "metadata": {
    "collapsed": true
   },
   "outputs": [],
   "source": [
    "token = ''\n",
    "slacker = Slacker(token)\n",
    "# browser = webdriver.Firefox()\n",
    "# browser.get('https://instagram.com/')\n",
    "# browser.maximize_window()\n",
    "# browser.implicitly_wait(5)  \n",
    "browser = webdriver.PhantomJS(service_args=[\"--ignore-ssl-errors=true\", \"--ssl-protocol=any\"])\n",
    "browser.set_window_size(1280, 1024)\n",
    "browser.get(\"https://instagram.com/\")\n",
    "browser.implicitly_wait(5)\n",
    "\n",
    "id = 'id'\n",
    "password = 'password'"
   ]
  },
  {
   "cell_type": "code",
   "execution_count": 67,
   "metadata": {
    "collapsed": true
   },
   "outputs": [],
   "source": [
    "class InstaJob:\n",
    "    @classmethod\n",
    "    def run(cls, start_index=1, end_index=2):\n",
    "        start_text = \"{} InstaJob Start\".format(datetime.datetime.now())\n",
    "        print(start_text)\n",
    "        slacker.chat.post_message('#general', text=start_text)\n",
    "        for i in range(start_index, end_index):\n",
    "            cls.login()\n",
    "            cls.timeline_like()\n",
    "            cls.hashtag_like()\n",
    "        end_text = \"{} InstaJob End\".format(datetime.datetime.now())\n",
    "        print(end_text)\n",
    "        slacker.chat.post_message('#general', text=end_text)\n",
    "        \n",
    "    @classmethod\n",
    "    def login(cls):\n",
    "        login_link = browser.find_element_by_css_selector('a._b93kq')\n",
    "        login_link.click()\n",
    "        username_input = browser.find_elements_by_css_selector('input._o716c')[0]\n",
    "        username_input.send_keys(id)\n",
    "        time.sleep(0.2 + random.random() * 0.3)\n",
    "        password_input = browser.find_elements_by_css_selector('input._o716c')[1]\n",
    "        password_input.send_keys(password)\n",
    "        password_input.submit()\n",
    "        print(\"login success\")\n",
    "        \n",
    "        \n",
    "    @classmethod\n",
    "    def timeline_like(cls):\n",
    "        print('timeline like start')\n",
    "        try:\n",
    "            for n in range(25):\n",
    "                like_lists = browser.find_elements_by_css_selector('span.coreSpriteHeartOpen')\n",
    "                for i in like_lists:\n",
    "                    i.click()\n",
    "                    time.sleep(1 + random.random() * 0.7)\n",
    "                browser.execute_script(\"window.scrollTo(0, document.body.scrollHeight);\") # 아래로 내려가는 코드 추가\n",
    "                time.sleep(1.3)\n",
    "        except:\n",
    "            time.sleep(1)\n",
    "                \n",
    "                \n",
    "    @classmethod\n",
    "    def hashtag_like(cls):\n",
    "        print('hashtag like start')\n",
    "        hash_tags = ['코딩','개발자','빅데이터','머신러닝','딥러닝','coding','developer','bigdata','machinelearning','deeplearning']\n",
    "        most_like_tags = hash_tags[:3]\n",
    "        for hash_tag in hash_tags:\n",
    "            print(hash_tag + \" 좋아요 작업을 시작합니다\")\n",
    "            browser.get(\"https://www.instagram.com/explore/tags/\" + quote(hash_tag))\n",
    "            browser.implicitly_wait(3 + random.random() * 1.5)\n",
    "            element = browser.find_elements_by_css_selector(\"div._mck9w._gvoze._f2mse\")[9]\n",
    "            browser.implicitly_wait(1)\n",
    "            element.find_element_by_css_selector(\"div._e3il2\").click()\n",
    "            time.sleep(2)\n",
    "            \n",
    "            if any(e in hash_tag for e in most_like_tags):\n",
    "                count_number = 100\n",
    "            else:\n",
    "                count_number = 20\n",
    "                \n",
    "            for i in range(1, count_number):\n",
    "                try:\n",
    "                    browser.find_element_by_css_selector(\"span.coreSpriteHeartOpen\").click()\n",
    "                    time.sleep(1 + random.random() * 1.2)\n",
    "                    browser.find_element_by_css_selector(\"a.coreSpriteRightPaginationArrow\").click()\n",
    "                    time.sleep(1 + random.random() * 1.2)\n",
    "                except:\n",
    "                    browser.find_element_by_css_selector(\"a.coreSpriteRightPaginationArrow\").click()\n",
    "                    time.sleep(1 + random.random() * 1.2)\n",
    "                "
   ]
  },
  {
   "cell_type": "code",
   "execution_count": 68,
   "metadata": {},
   "outputs": [
    {
     "name": "stdout",
     "output_type": "stream",
     "text": [
      "2017-08-29 00:22:20.504835 InstaJob Start\n",
      "login success\n",
      "timeline like start\n",
      "hashtag like start\n",
      "코딩 좋아요 작업을 시작합니다\n",
      "click ok\n",
      "try like\n",
      "try like\n",
      "개발자 좋아요 작업을 시작합니다\n",
      "click ok\n",
      "try like\n",
      "try like\n",
      "빅데이터 좋아요 작업을 시작합니다\n",
      "click ok\n",
      "try like\n",
      "try like\n",
      "머신러닝 좋아요 작업을 시작합니다\n",
      "click ok\n",
      "try like\n",
      "try like\n",
      "2017-08-29 00:24:00.324011 InstaJob End\n"
     ]
    }
   ],
   "source": [
    "InstaJob.run()"
   ]
  },
  {
   "cell_type": "code",
   "execution_count": null,
   "metadata": {
    "collapsed": true
   },
   "outputs": [],
   "source": []
  }
 ],
 "metadata": {
  "kernelspec": {
   "display_name": "Python 3",
   "language": "python",
   "name": "python3"
  },
  "language_info": {
   "codemirror_mode": {
    "name": "ipython",
    "version": 3
   },
   "file_extension": ".py",
   "mimetype": "text/x-python",
   "name": "python",
   "nbconvert_exporter": "python",
   "pygments_lexer": "ipython3",
   "version": "3.6.1"
  },
  "latex_envs": {
   "LaTeX_envs_menu_present": true,
   "autocomplete": true,
   "bibliofile": "biblio.bib",
   "cite_by": "apalike",
   "current_citInitial": 1,
   "eqLabelWithNumbers": true,
   "eqNumInitial": 1,
   "hotkeys": {
    "equation": "Ctrl-E",
    "itemize": "Ctrl-I"
   },
   "labels_anchors": false,
   "latex_user_defs": false,
   "report_style_numbering": false,
   "user_envs_cfg": false
  }
 },
 "nbformat": 4,
 "nbformat_minor": 1
}
