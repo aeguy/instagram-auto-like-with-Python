{
 "cells": [
  {
   "cell_type": "code",
   "execution_count": 2,
   "metadata": {
    "collapsed": true
   },
   "outputs": [],
   "source": [
    "from selenium import webdriver\n",
    "import requests\n",
    "import json\n",
    "import time\n",
    "import datetime\n",
    "from urllib.parse import quote\n",
    "\n",
    "# browser = webdriver.Firefox()\n",
    "# browser.get('https://instagram.com/')\n",
    "# browser.maximize_window()\n",
    "# browser.implicitly_wait(5)  "
   ]
  },
  {
   "cell_type": "code",
   "execution_count": 61,
   "metadata": {
    "collapsed": true
   },
   "outputs": [],
   "source": [
    "browser = webdriver.PhantomJS(service_args=[\"--ignore-ssl-errors=true\", \"--ssl-protocol=any\"])\n",
    "browser.set_window_size(1280, 1024)\n",
    "browser.get(\"https://instagram.com/\")\n",
    "browser.implicitly_wait(5)"
   ]
  },
  {
   "cell_type": "code",
   "execution_count": 62,
   "metadata": {
    "collapsed": true
   },
   "outputs": [],
   "source": [
    "def send_slack(channel, username, icon_emoji, message):\n",
    "    base_url = \"hooks의 개인 주소 입력\" \n",
    "    payload = {\n",
    "       \"channel\": channel,\n",
    "       \"username\": username,\n",
    "       \"icon_emoji\": icon_emoji,\n",
    "       \"text\": message\n",
    "       }\n",
    "    response = requests.post(base_url, data=json.dumps(payload))\n",
    "    print(response.content)\n",
    "\n",
    "def slack(function):\n",
    "    def wrapper(*args, **kwargs):\n",
    "        name = function.__name__\n",
    "        start_time = time.time()\n",
    "        current_time = str(datetime.datetime.now())\n",
    "        send_slack(\"project\", \"databot\", \":ghost:\", \"작업을 실행합니다 - {time}\".format(time=current_time))\n",
    "        \n",
    "        try:\n",
    "            result = function(*args, **kwargs)\n",
    "            current_time = str(datetime.datetime.now())\n",
    "            end_time = time.time()\n",
    "            send_slack(\"project\", \"databot\", \":ghost:\", \"작업이 끝났습니다 - 걸린시간은 {time}s 입니다.\".format(time=int(end_time-start_time)))\n",
    "            \n",
    "        except:\n",
    "            send_slack(\"project\", \"databot\", \":ghost:\", \"오류가 났어요 다시 봐주세요.\")\n",
    "            \n",
    "        current_time = str(datetime.datetime.now())\n",
    "        end_time = time.time()\n",
    "        send_slack(\"dss\", \"databot\", \":ghost:\", \"작업이 끝났습니다 - 걸린시간은 {time}s 입니다.\".format(time=int(end_time-start_time)))\n",
    "       \n",
    "    return wrapper"
   ]
  },
  {
   "cell_type": "code",
   "execution_count": 3,
   "metadata": {
    "collapsed": true
   },
   "outputs": [],
   "source": [
    "# 로그인 창으로 이동\n",
    "login_link = browser.find_element_by_css_selector('._fcn8k')\n",
    "login_link.click()\n"
   ]
  },
  {
   "cell_type": "code",
   "execution_count": 6,
   "metadata": {},
   "outputs": [],
   "source": [
    "# id 입력\n",
    "# username_input = browser.find_element_by_css_selector('div._ccek6:nth-child(1) > input:nth-child(1)')\n",
    "username_input = browser.find_elements_by_css_selector('input._kp5f7._qy55y')[0]\n",
    "username_input.send_keys(\"id\") # ID 입력\n"
   ]
  },
  {
   "cell_type": "code",
   "execution_count": 10,
   "metadata": {},
   "outputs": [],
   "source": [
    "# password\n",
    "\n",
    "# password_input = browser.find_element_by_css_selector('div._ccek6:nth-child(2) > input:nth-child(1)')\n",
    "password_input = browser.find_elements_by_css_selector('input._kp5f7._qy55y')[1]\n",
    "password_input.send_keys(\"password\") # 비밀번호 입력\n",
    "\n",
    "# Login\n",
    "password_input.submit()\n",
    "\n"
   ]
  },
  {
   "cell_type": "code",
   "execution_count": 12,
   "metadata": {},
   "outputs": [
    {
     "name": "stdout",
     "output_type": "stream",
     "text": [
      "Wall time: 13.3 s\n"
     ]
    }
   ],
   "source": [
    "%%time\n",
    "# 자신의 타임라인(팔로잉한 유저들의 글)의 글 좋아요\n",
    "\n",
    "try:\n",
    "    for n in range(30):\n",
    "        like_lists = browser.find_elements_by_css_selector('span.coreSpriteHeartOpen')\n",
    "        for i in like_lists:\n",
    "            i.click()\n",
    "            time.sleep(2)\n",
    "        browser.execute_script(\"window.scrollTo(0, document.body.scrollHeight);\") # 아래로 내려가는 코드 추가\n",
    "        time.sleep(1.3)\n",
    "except:\n",
    "    time.sleep(1)"
   ]
  },
  {
   "cell_type": "code",
   "execution_count": 8,
   "metadata": {},
   "outputs": [
    {
     "name": "stdout",
     "output_type": "stream",
     "text": [
      "Wall time: 1min 13s\n"
     ]
    }
   ],
   "source": [
    "%%time\n",
    "# 특정 해시태그에서 글을 누른 상태에서 좋아요 누르기\n",
    "for i in range(1,200): # N\n",
    "    try:\n",
    "        browser.find_element_by_css_selector(\"span._soakw.coreSpriteHeartOpen\").click()\n",
    "        time.sleep(2)\n",
    "        browser.find_element_by_css_selector(\"a._de018.coreSpriteRightPaginationArrow\").click()\n",
    "        time.sleep(2)\n",
    "    except:\n",
    "        browser.find_element_by_css_selector(\"a._de018.coreSpriteRightPaginationArrow\").click()\n",
    "        time.sleep(0.4)\n"
   ]
  },
  {
   "cell_type": "code",
   "execution_count": 57,
   "metadata": {
    "collapsed": true
   },
   "outputs": [],
   "source": [
    "def insta_auto(hash_tag, count_number):\n",
    "    start_time = time.time()\n",
    "    current_time = str(datetime.datetime.now())\n",
    "#     send_slack(\"project\", \"databot\", \":ghost:\", \"인스타그램 좋아요 작업을 실행합니다 - {time}\".format(time=current_time))\n",
    "\n",
    "#     hash_tag = str(input(\"해시태그를 입력해주세요. ex)먹스타그램 \"))\n",
    "\n",
    "#     count_number = int(input(\"좋아요 몇번 할까요?\"))\n",
    "\n",
    "    browser.get(\"https://www.instagram.com/explore/tags/\" + quote(hash_tag) )\n",
    "\n",
    "    browser.find_elements_by_css_selector(\"div._22yr2\")[9].click()\n",
    "\n",
    "    for i in range(1,count_number):\n",
    "        try:\n",
    "            browser.find_element_by_css_selector(\"span._soakw.coreSpriteHeartOpen\").click()\n",
    "            time.sleep(2)\n",
    "            browser.find_element_by_css_selector(\"a._de018.coreSpriteRightPaginationArrow\").click()\n",
    "            time.sleep(2)\n",
    "        except:\n",
    "            browser.find_element_by_css_selector(\"a._de018.coreSpriteRightPaginationArrow\").click()\n",
    "            time.sleep(0.4)\n",
    "\n",
    "\n",
    "    current_time = str(datetime.datetime.now())\n",
    "    end_time = time.time()\n",
    "#     send_slack(\"project\", \"databot\", \":ghost:\", \"작업이 끝났습니다 - 걸린시간은 {time}s 입니다.\".format(time=int(end_time-start_time)))"
   ]
  },
  {
   "cell_type": "code",
   "execution_count": 78,
   "metadata": {
    "scrolled": true
   },
   "outputs": [
    {
     "data": {
      "text/plain": [
       "True"
      ]
     },
     "execution_count": 78,
     "metadata": {},
     "output_type": "execute_result"
    }
   ],
   "source": [
    "browser.save_screenshot('test.jpg')"
   ]
  },
  {
   "cell_type": "code",
   "execution_count": 11,
   "metadata": {
    "collapsed": true
   },
   "outputs": [],
   "source": [
    "def insta_auto(hash_tag, count_number:int):\n",
    "    print(hash_tag +\" 좋아요 작업을 시작합니다\")\n",
    "    browser.get(\"https://www.instagram.com/explore/tags/\" + quote(hash_tag))\n",
    "    browser.find_elements_by_css_selector(\"div._22yr2\")[9].click()\n",
    "    time.sleep(1)\n",
    "    for i in range(1,int(count_number)):\n",
    "        try:\n",
    "            browser.find_element_by_css_selector(\"span._soakw.coreSpriteHeartOpen\").click()\n",
    "            time.sleep(2)\n",
    "            browser.find_element_by_css_selector(\"a._de018.coreSpriteRightPaginationArrow\").click()\n",
    "            time.sleep(2)\n",
    "#             browser.save_screenshot('test1.jpg')\n",
    "        except:\n",
    "            browser.find_element_by_css_selector(\"a._de018.coreSpriteRightPaginationArrow\").click()\n",
    "            time.sleep(0.4)"
   ]
  },
  {
   "cell_type": "code",
   "execution_count": 16,
   "metadata": {
    "scrolled": true
   },
   "outputs": [],
   "source": [
    "browser.find_elements_by_css_selector(\"div._22yr2\")[9].click()"
   ]
  },
  {
   "cell_type": "code",
   "execution_count": 17,
   "metadata": {},
   "outputs": [],
   "source": [
    "insta_auto(hash_tag=\"개발자\",count_number=30)"
   ]
  }
 ],
 "metadata": {
  "kernelspec": {
   "display_name": "Python 3",
   "language": "python",
   "name": "python3"
  },
  "language_info": {
   "codemirror_mode": {
    "name": "ipython",
    "version": 3
   },
   "file_extension": ".py",
   "mimetype": "text/x-python",
   "name": "python",
   "nbconvert_exporter": "python",
   "pygments_lexer": "ipython3",
   "version": "3.6.1"
  },
  "latex_envs": {
   "LaTeX_envs_menu_present": true,
   "autocomplete": true,
   "bibliofile": "biblio.bib",
   "cite_by": "apalike",
   "current_citInitial": 1,
   "eqLabelWithNumbers": true,
   "eqNumInitial": 1,
   "hotkeys": {
    "equation": "Ctrl-E",
    "itemize": "Ctrl-I"
   },
   "labels_anchors": false,
   "latex_user_defs": false,
   "report_style_numbering": false,
   "user_envs_cfg": false
  }
 },
 "nbformat": 4,
 "nbformat_minor": 1
}
