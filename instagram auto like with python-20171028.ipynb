{
 "cells": [
  {
   "cell_type": "code",
   "execution_count": 107,
   "metadata": {
    "ExecuteTime": {
     "end_time": "2017-10-28T11:20:50.748338Z",
     "start_time": "2017-10-28T11:20:50.742360Z"
    },
    "collapsed": true
   },
   "outputs": [],
   "source": [
    "import time\n",
    "import datetime\n",
    "import random\n",
    "from selenium import webdriver\n",
    "from slacker import Slacker\n",
    "from urllib.parse import quote\n",
    "\n",
    "token = 'your slack token'\n",
    "slacker = Slacker(token)"
   ]
  },
  {
   "cell_type": "code",
   "execution_count": 110,
   "metadata": {
    "ExecuteTime": {
     "end_time": "2017-10-28T14:03:04.051489Z",
     "start_time": "2017-10-28T14:03:04.020636Z"
    }
   },
   "outputs": [],
   "source": [
    "browser = webdriver.PhantomJS(service_args=[\"--ignore-ssl-errors=true\", \"--ssl-protocol=any\"])\n",
    "browser.set_window_size(1280, 1024)\n",
    "\n",
    "browser.get('https://instagram.com/')\n",
    "time.sleep(3)\n",
    "\n",
    "\n",
    "id = 'id'\n",
    "password = 'password'\n",
    "hash_tags = ['your','hashtag']\n",
    "most_like_tags = hash_tags[:1]\n",
    "\n",
    "class InstaJob:\n",
    "    @classmethod\n",
    "    def run(cls, start_index=1, end_index=2):\n",
    "        start_text = \"{id} Insta Auto Like Start : {time}\".format(id=id, time=datetime.datetime.now())\n",
    "        print('start')\n",
    "        slacker.chat.post_message('#general', text=start_text)\n",
    "        for i in range(start_index, end_index):\n",
    "            cls.login()\n",
    "            cls.timeline_like()\n",
    "            cls.hashtag_like()\n",
    "        end_text = \"{id} Insta Auto Like End : {time}\".format(id=id, time=datetime.datetime.now())\n",
    "        slacker.chat.post_message('#general', text=end_text)\n",
    "\n",
    "    @classmethod\n",
    "    def login(cls):\n",
    "        login_link = browser.find_element_by_css_selector('a._b93kq')\n",
    "        login_link.click()\n",
    "\n",
    "        username_input = browser.find_elements_by_css_selector('input._o716c')[0]\n",
    "        username_input.send_keys(id)\n",
    "        time.sleep(2 + random.random() * 0.3)\n",
    "        password_input = browser.find_elements_by_css_selector('input._o716c')[1]\n",
    "        password_input.send_keys(password)\n",
    "        password_input.submit()\n",
    "        time.sleep(2)\n",
    "        print(\"login success\")\n",
    "\n",
    "    @classmethod\n",
    "    def timeline_like(cls):\n",
    "        print('timeline like start')\n",
    "        browser.execute_script(\"window.scrollTo(0, document.body.scrollHeight);\")\n",
    "        try:\n",
    "            for i in range(130):\n",
    "                time.sleep(3)\n",
    "                browser.find_elements_by_css_selector('span._8scx2.coreSpriteHeartOpen')[0].click()\n",
    "        except:\n",
    "            slacker.chat.post_message('#general', text=\"raise timeline like error\")\n",
    "            pass\n",
    "\n",
    "\n",
    "    @classmethod\n",
    "    def hashtag_like(cls):\n",
    "        print('hashtag like start')\n",
    "        for hash_tag in hash_tags:\n",
    "            print(hash_tag + \" 좋아요 작업을 시작합니다\")\n",
    "            browser.get(\"https://www.instagram.com/explore/tags/\" + quote(hash_tag))\n",
    "            time.sleep(4 + random.random() * 1.2)\n",
    "            element = browser.find_elements_by_css_selector(\"div._mck9w._gvoze._f2mse\")[9]\n",
    "            element.find_element_by_css_selector(\"div._e3il2\").click()\n",
    "            time.sleep(5)\n",
    "\n",
    "            if any(e in hash_tag for e in most_like_tags):\n",
    "                count_number = 50\n",
    "            else:\n",
    "                count_number = 30\n",
    "\n",
    "            for i in range(1, count_number):\n",
    "                try:\n",
    "                    browser.find_element_by_css_selector(\"span._8scx2.coreSpriteHeartOpen\").click()\n",
    "                    time.sleep(1 + random.random() * 1.2)\n",
    "                    browser.find_element_by_css_selector(\"a._3a693.coreSpriteRightPaginationArrow\").click()\n",
    "                    time.sleep(0.8 + random.random() * 1.3)\n",
    "                except:\n",
    "                    browser.find_element_by_css_selector(\"a._3a693.coreSpriteRightPaginationArrow\").click()\n",
    "                    time.sleep(1 + random.random() * 1.2)\n",
    "\n",
    "if __name__ == '__main__':\n",
    "    InstaJob.run()"
   ]
  }
 ],
 "metadata": {
  "kernelspec": {
   "display_name": "Python 3",
   "language": "python",
   "name": "python3"
  },
  "language_info": {
   "codemirror_mode": {
    "name": "ipython",
    "version": 3
   },
   "file_extension": ".py",
   "mimetype": "text/x-python",
   "name": "python",
   "nbconvert_exporter": "python",
   "pygments_lexer": "ipython3",
   "version": "3.6.1"
  },
  "latex_envs": {
   "LaTeX_envs_menu_present": true,
   "autocomplete": true,
   "bibliofile": "biblio.bib",
   "cite_by": "apalike",
   "current_citInitial": 1,
   "eqLabelWithNumbers": true,
   "eqNumInitial": 1,
   "hotkeys": {
    "equation": "Ctrl-E",
    "itemize": "Ctrl-I"
   },
   "labels_anchors": false,
   "latex_user_defs": false,
   "report_style_numbering": false,
   "user_envs_cfg": false
  },
  "varInspector": {
   "cols": {
    "lenName": 16,
    "lenType": 16,
    "lenVar": 40
   },
   "kernels_config": {
    "python": {
     "delete_cmd_postfix": "",
     "delete_cmd_prefix": "del ",
     "library": "var_list.py",
     "varRefreshCmd": "print(var_dic_list())"
    },
    "r": {
     "delete_cmd_postfix": ") ",
     "delete_cmd_prefix": "rm(",
     "library": "var_list.r",
     "varRefreshCmd": "cat(var_dic_list()) "
    }
   },
   "types_to_exclude": [
    "module",
    "function",
    "builtin_function_or_method",
    "instance",
    "_Feature"
   ],
   "window_display": false
  }
 },
 "nbformat": 4,
 "nbformat_minor": 1
}
